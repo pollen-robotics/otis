{
 "cells": [
  {
   "cell_type": "code",
   "execution_count": null,
   "metadata": {},
   "outputs": [],
   "source": [
    "%matplotlib inline\n",
    "\n",
    "import numpy as np\n",
    "from matplotlib import pyplot as plt"
   ]
  },
  {
   "cell_type": "markdown",
   "metadata": {},
   "source": [
    "Connect to the Otis hand."
   ]
  },
  {
   "cell_type": "code",
   "execution_count": null,
   "metadata": {},
   "outputs": [],
   "source": [
    "import otis\n",
    "\n",
    "otis.register()"
   ]
  },
  {
   "cell_type": "code",
   "execution_count": null,
   "metadata": {},
   "outputs": [],
   "source": [
    "import sys\n",
    "\n",
    "if sys.platform == 'linux':\n",
    "    port = '/dev/ttyUSB*'\n",
    "elif sys.platform == 'darwin':\n",
    "    port = '/dev/cu.usb*'\n",
    "else:\n",
    "    # port = 'COMX'\n",
    "    raise EnvironmentError('Please set the correct number for the COM port')"
   ]
  },
  {
   "cell_type": "code",
   "execution_count": null,
   "metadata": {},
   "outputs": [],
   "source": [
    "from reachy import Reachy, parts\n",
    "\n",
    "r = Reachy(\n",
    "    right_arm=parts.RightArm(io=port, hand='otis')\n",
    ")\n",
    "\n",
    "otis = r.right_arm.hand"
   ]
  },
  {
   "cell_type": "code",
   "execution_count": null,
   "metadata": {},
   "outputs": [],
   "source": [
    "center = (78, 112)\n",
    "radius = 10"
   ]
  },
  {
   "cell_type": "markdown",
   "metadata": {},
   "source": [
    "Draw a 10mm circle around the defined position."
   ]
  },
  {
   "cell_type": "code",
   "execution_count": null,
   "metadata": {},
   "outputs": [],
   "source": [
    "import time\n",
    "\n",
    "otis.compliant = False\n",
    "\n",
    "otis.lift()\n",
    "\n",
    "theta = np.linspace(0, 2 * np.pi, 1000)\n",
    "x = center[0] + radius * np.cos(theta)\n",
    "y = center[1] + radius * np.sin(theta)\n",
    "\n",
    "theta_a, theta_b = otis.inverse(x, y)\n",
    "\n",
    "otis.goto(\n",
    "    goal_positions={\n",
    "        'motor_a': theta_a[0], \n",
    "        'motor_b': theta_b[0]\n",
    "    }, \n",
    "    duration=0.5,\n",
    ")\n",
    "\n",
    "otis.drop()\n",
    "\n",
    "for a, b in zip(theta_a, theta_b):\n",
    "    otis.motor_a.goal_position = a\n",
    "    otis.motor_b.goal_position = b\n",
    "    time.sleep(0.01)\n",
    "    \n",
    "otis.lift()"
   ]
  },
  {
   "cell_type": "code",
   "execution_count": null,
   "metadata": {},
   "outputs": [],
   "source": []
  }
 ],
 "metadata": {
  "kernelspec": {
   "display_name": "Python 3",
   "language": "python",
   "name": "python3"
  },
  "language_info": {
   "codemirror_mode": {
    "name": "ipython",
    "version": 3
   },
   "file_extension": ".py",
   "mimetype": "text/x-python",
   "name": "python",
   "nbconvert_exporter": "python",
   "pygments_lexer": "ipython3",
   "version": "3.9.1"
  }
 },
 "nbformat": 4,
 "nbformat_minor": 4
}
