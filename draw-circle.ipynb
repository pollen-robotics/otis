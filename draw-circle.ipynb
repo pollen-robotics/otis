{
 "cells": [
  {
   "cell_type": "code",
   "execution_count": null,
   "metadata": {},
   "outputs": [],
   "source": [
    "%matplotlib inline\n",
    "\n",
    "import numpy as np\n",
    "from matplotlib import pyplot as plt"
   ]
  },
  {
   "cell_type": "markdown",
   "metadata": {},
   "source": [
    "Connect to the hand."
   ]
  },
  {
   "cell_type": "code",
   "execution_count": null,
   "metadata": {},
   "outputs": [],
   "source": [
    "from otis import RightOtis\n",
    "from reachy.io import IO\n",
    "\n",
    "otis = RightOtis(root='reachy', io='/dev/cu.usbserial-D307RR2E')"
   ]
  },
  {
   "cell_type": "markdown",
   "metadata": {},
   "source": [
    "Draw a 10mm circle around its current position."
   ]
  },
  {
   "cell_type": "code",
   "execution_count": null,
   "metadata": {},
   "outputs": [],
   "source": [
    "otis.compliant = False\n",
    "\n",
    "# Use its current position by default.\n",
    "center = otis.forward()\n",
    "\n",
    "otis.lift()\n",
    "\n",
    "radius = 10\n",
    "theta = np.linspace(0, 2 * np.pi, 1000)\n",
    "x = center[0] + radius * np.cos(theta)\n",
    "y = center[1] + radius * np.sin(theta)\n",
    "\n",
    "theta_a, theta_b = otis.inverse(x, y)\n",
    "\n",
    "otis.goto(\n",
    "    goal_positions={\n",
    "        'motor_a': theta_a[0], \n",
    "        'motor_b': theta_b[0]\n",
    "    }, \n",
    "    duration=0.5,\n",
    ")\n",
    "\n",
    "otis.drop()\n",
    "\n",
    "for a, b in zip(theta_a, theta_b):\n",
    "    otis.motor_a.goal_position = a\n",
    "    otis.motor_b.goal_position = b\n",
    "    time.sleep(0.01)\n",
    "    \n",
    "otis.lift()"
   ]
  },
  {
   "cell_type": "code",
   "execution_count": null,
   "metadata": {},
   "outputs": [],
   "source": []
  }
 ],
 "metadata": {
  "kernelspec": {
   "display_name": "Python 3",
   "language": "python",
   "name": "python3"
  },
  "language_info": {
   "codemirror_mode": {
    "name": "ipython",
    "version": 3
   },
   "file_extension": ".py",
   "mimetype": "text/x-python",
   "name": "python",
   "nbconvert_exporter": "python",
   "pygments_lexer": "ipython3",
   "version": "3.8.7"
  }
 },
 "nbformat": 4,
 "nbformat_minor": 4
}
