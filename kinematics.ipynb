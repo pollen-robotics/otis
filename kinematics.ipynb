{
 "cells": [
  {
   "cell_type": "code",
   "execution_count": 1,
   "metadata": {},
   "outputs": [],
   "source": [
    "import numpy as np\n",
    "from matplotlib import pyplot as plt\n",
    "%matplotlib inline\n",
    "from operator import itemgetter\n",
    "from angles import normalize\n",
    "from collections import namedtuple\n",
    "\n",
    "from math import sqrt, acos, cos, sin, asin\n",
    "import math\n",
    "from numpy import deg2rad, rad2deg, isclose, array"
   ]
  },
  {
   "cell_type": "code",
   "execution_count": 2,
   "metadata": {},
   "outputs": [],
   "source": [
    "A = namedtuple('points', ['x', 'y'])"
   ]
  },
  {
   "cell_type": "code",
   "execution_count": 147,
   "metadata": {},
   "outputs": [],
   "source": [
    "c = [1, 2, 3]"
   ]
  },
  {
   "cell_type": "code",
   "execution_count": 73,
   "metadata": {},
   "outputs": [],
   "source": [
    "def forward(thumb_motor_angle, finger_motor_angle):\n",
    "\n",
    "    T_theta, F_theta = deg2rad(thumb_motor_angle), deg2rad(finger_motor_angle)\n",
    "\n",
    "    T_jx = T_r * cos(T_theta) + T_0[0]\n",
    "    T_jy = T_r * sin(T_theta) + T_0[1]\n",
    "\n",
    "    F_jx = F_r * cos(F_theta) + F_0[0]\n",
    "    F_jy = F_r * sin(F_theta) + F_0[1]\n",
    "    \n",
    "    C_thumb  = (T_jx, T_jy, T_l)\n",
    "    C_finger = (F_jx, F_jy, F_l)\n",
    "    \n",
    "    sols = get_intersections(C_thumb, C_finger)\n",
    "    return max(sols, key=itemgetter(1)) if sols else None\n"
   ]
  },
  {
   "cell_type": "code",
   "execution_count": 120,
   "metadata": {},
   "outputs": [],
   "source": [
    "T_0 = [20, 10] #x,y coordinate in mm\n",
    "F_0 = [40, -5] #x,y coordinate in mm\n",
    "\n",
    "T_r = 30\n",
    "F_r = 30\n",
    "\n",
    "T_l = 65\n",
    "F_l = 60\n",
    "r  = 15"
   ]
  },
  {
   "cell_type": "code",
   "execution_count": 126,
   "metadata": {},
   "outputs": [
    {
     "name": "stdout",
     "output_type": "stream",
     "text": [
      "(49.381077586028496, 65.65405425964539, 65)\n",
      "26.253429749554837 (66.90538793014247, 8.270271298226925) 142.4785494805689 (-3.7937612578111093, 28.271752111012447)\n"
     ]
    }
   ],
   "source": [
    "x = 45\n",
    "y = 80\n",
    "\n",
    "C_F = x, y, F_l+r\n",
    "C_F0 = F_0[0], F_0[1], F_r\n",
    "\n",
    "\n",
    "\n",
    "sol_F = get_intersections(C_F, C_F0)\n",
    "sol_F = max(sol_F, key=itemgetter(0))\n",
    "\n",
    "C_T = x + r/(F_l+r) * (sol_F[0]-x), y + r/(F_l+r) * (sol_F[1]-y), T_l\n",
    "print(C_T)\n",
    "C_T0 = T_0[0], T_0[1], T_r\n",
    "\n",
    "sol_T = get_intersections(C_T, C_T0)\n",
    "sol_T = min(sol_T, key=itemgetter(0))\n",
    "\n",
    "theta_F = acos( (sol_F[0] - C_F0[0]) / F_r) \n",
    "theta_T = acos((sol_T[0] - C_T0[0]) / T_r)\n",
    "\n",
    "theta_T = 2*np.pi - theta_T if sol_T[1] - C_T0[1] < 0 else theta_T\n",
    "theta_F = -theta_F if sol_F[1] - C_F0[1] < 0 else theta_F\n",
    "\n",
    "theta_F = normalize(theta_F, -180, 180)\n",
    "theta_T = normalize(theta_T, -180, 180)\n",
    "\n",
    "print(rad2deg(theta_F) ,sol_F, rad2deg(theta_T), sol_T)"
   ]
  },
  {
   "cell_type": "code",
   "execution_count": 125,
   "metadata": {},
   "outputs": [
    {
     "data": {
      "text/plain": [
       "0.25"
      ]
     },
     "execution_count": 125,
     "metadata": {},
     "output_type": "execute_result"
    }
   ],
   "source": [
    "r/F_l"
   ]
  },
  {
   "cell_type": "code",
   "execution_count": 92,
   "metadata": {},
   "outputs": [
    {
     "data": {
      "text/plain": [
       "19.53222369846111"
      ]
     },
     "execution_count": 92,
     "metadata": {},
     "output_type": "execute_result"
    }
   ],
   "source": [
    "sol_F[0] - C_F0[0]"
   ]
  },
  {
   "cell_type": "code",
   "execution_count": null,
   "metadata": {},
   "outputs": [],
   "source": [
    "def inverse(self, x, y):\n",
    "    C1 = (d, 0)\n",
    "    C2 = (-d, 0)\n",
    "\n",
    "    # theta1\n",
    "    sol_1 = compute_cercle_intersect(C1[0], C1[1], x, y, r, L)\n",
    "    sol_2 = compute_cercle_intersect(C2[0], C2[1], x, y, r, L)\n",
    "\n",
    "    sol_1 = max(sol_1, key=itemgetter(0))\n",
    "    sol_2 = min(sol_2, key=itemgetter(0))\n",
    "\n",
    "    ratio = (sol_1[0] - C1[0]) / r\n",
    "    ratio = min(max(ratio, -1.0), 1.0)\n",
    "    theta1 = rad2deg(asin(ratio))\n",
    "    theta1 = theta1 if sol_1[1] > 0 else 180 - theta1\n",
    "    theta1 = normalize(theta1, -180, 180)\n",
    "\n",
    "    ratio = (sol_2[0] - C2[0]) / r\n",
    "    ratio = min(max(ratio, -1.0), 1.0)\n",
    "    theta2 = rad2deg(asin(ratio))\n",
    "    theta2 = theta2 if sol_2[1] > 0 else 180 - theta2\n",
    "    theta2 = normalize(theta2, -180, 180)\n",
    "\n",
    "    return -theta1, -theta2"
   ]
  },
  {
   "cell_type": "code",
   "execution_count": 83,
   "metadata": {},
   "outputs": [],
   "source": [
    "T_theta_deg = 90\n",
    "F_theta_deg = 50"
   ]
  },
  {
   "cell_type": "code",
   "execution_count": null,
   "metadata": {},
   "outputs": [],
   "source": []
  },
  {
   "cell_type": "code",
   "execution_count": 84,
   "metadata": {},
   "outputs": [
    {
     "name": "stdout",
     "output_type": "stream",
     "text": [
      "(74.02541579583554, 76.14214227307349)\n"
     ]
    }
   ],
   "source": [
    "s = forward(T_theta_deg, F_theta_deg)\n",
    "print(s)"
   ]
  },
  {
   "cell_type": "code",
   "execution_count": 63,
   "metadata": {},
   "outputs": [
    {
     "data": {
      "text/plain": [
       "(64.57780978621572, 81.33214026701432)"
      ]
     },
     "execution_count": 63,
     "metadata": {},
     "output_type": "execute_result"
    }
   ],
   "source": [
    " max(s, key=itemgetter(1))"
   ]
  },
  {
   "cell_type": "code",
   "execution_count": 54,
   "metadata": {},
   "outputs": [],
   "source": [
    "T_theta, F_theta = deg2rad(T_theta_deg), deg2rad(F_theta_deg)\n",
    "\n",
    "T_jx = T_r * cos(T_theta) + T_0[0]\n",
    "T_jy = T_r * sin(T_theta) + T_0[1]\n",
    "\n",
    "F_jx = F_r * cos(F_theta) + F_0[0]\n",
    "F_jy = F_r * sin(F_theta) + F_0[1]\n",
    "\n",
    "#sol = (same_radius_circle_intersection((x1, y1), (x2, y2)))\n",
    "#return max(sol, key=itemgetter(1))"
   ]
  },
  {
   "cell_type": "code",
   "execution_count": 56,
   "metadata": {},
   "outputs": [
    {
     "data": {
      "text/plain": [
       "(11.949756430122523, -25.3936597788842, 64.57780978621572, 81.33214026701432)"
      ]
     },
     "execution_count": 56,
     "metadata": {},
     "output_type": "execute_result"
    }
   ],
   "source": [
    "get_intersections(T_jx, T_jy, T_l, F_jx, F_jy, F_l)"
   ]
  },
  {
   "cell_type": "code",
   "execution_count": 44,
   "metadata": {},
   "outputs": [
    {
     "data": {
      "text/plain": [
       "((3.3723158604552808, -21.95474156765031),\n",
       " (56.62768413954472, 86.0432067483828))"
      ]
     },
     "execution_count": 44,
     "metadata": {},
     "output_type": "execute_result"
    }
   ],
   "source": [
    "same_radius_circle_intersection(c1, c2)"
   ]
  },
  {
   "cell_type": "code",
   "execution_count": 38,
   "metadata": {},
   "outputs": [],
   "source": [
    "def same_radius_circle_intersection(c1, c2):\n",
    "    (x1, y1), (x2, y2) = c1, c2\n",
    "    R = sqrt((x2 - x1)**2 + (y2 - y1)**2)\n",
    "\n",
    "    xl = 0.5 * (x1 + x2)\n",
    "    xr = 0.5 * sqrt(2 * ((T_l**2 + F_l**2) / (R**2)) - 1) * (y2 - y1)\n",
    "    yl = 0.5 * (y1 + y2)\n",
    "    yr = 0.5 * sqrt(2 * ((T_l**2 + F_l**2) / (R**2)) - 1) * (x1 - x2)\n",
    "\n",
    "    return (xl + xr, yl + yr), (xl - xr, yl - yr)"
   ]
  },
  {
   "cell_type": "code",
   "execution_count": 32,
   "metadata": {},
   "outputs": [
    {
     "data": {
      "text/plain": [
       "(14.79055466999209, 39.54423259036624)"
      ]
     },
     "execution_count": 32,
     "metadata": {},
     "output_type": "execute_result"
    }
   ],
   "source": [
    "T_jx, T_jy"
   ]
  },
  {
   "cell_type": "code",
   "execution_count": 33,
   "metadata": {},
   "outputs": [
    {
     "data": {
      "text/plain": [
       "(45.20944533000791, 24.544232590366242)"
      ]
     },
     "execution_count": 33,
     "metadata": {},
     "output_type": "execute_result"
    }
   ],
   "source": [
    "F_jx, F_jy"
   ]
  },
  {
   "cell_type": "code",
   "execution_count": 29,
   "metadata": {},
   "outputs": [
    {
     "data": {
      "text/plain": [
       "70.0"
      ]
     },
     "execution_count": 29,
     "metadata": {},
     "output_type": "execute_result"
    }
   ],
   "source": [
    "F_jx"
   ]
  }
 ],
 "metadata": {
  "kernelspec": {
   "display_name": "Python 3",
   "language": "python",
   "name": "python3"
  },
  "language_info": {
   "codemirror_mode": {
    "name": "ipython",
    "version": 3
   },
   "file_extension": ".py",
   "mimetype": "text/x-python",
   "name": "python",
   "nbconvert_exporter": "python",
   "pygments_lexer": "ipython3",
   "version": "3.8.6"
  }
 },
 "nbformat": 4,
 "nbformat_minor": 4
}
