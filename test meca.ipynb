{
 "cells": [
  {
   "cell_type": "code",
   "execution_count": 1,
   "metadata": {},
   "outputs": [],
   "source": [
    "from pyluos import Device\n",
    "import time\n",
    "import numpy as np"
   ]
  },
  {
   "cell_type": "code",
   "execution_count": 2,
   "metadata": {},
   "outputs": [
    {
     "data": {
      "text/plain": [
       "-------------------------------------------------\n",
       "Type                Alias               ID   \n",
       "-------------------------------------------------\n",
       "Gate                gate                1    \n",
       "DynamixelMotor      dxl_2               2    \n",
       "DynamixelMotor      dxl_12              3    \n",
       "DynamixelMotor      dxl_30              4    "
      ]
     },
     "execution_count": 2,
     "metadata": {},
     "output_type": "execute_result"
    }
   ],
   "source": [
    "robot = Device('/dev/cu.usbserial-D307RR2E')\n",
    "robot.modules"
   ]
  },
  {
   "cell_type": "code",
   "execution_count": 3,
   "metadata": {},
   "outputs": [],
   "source": [
    "motor_1 = robot.dxl_2\n",
    "motor_2 = robot.dxl_30\n",
    "lift = robot.dxl_12"
   ]
  },
  {
   "cell_type": "code",
   "execution_count": 4,
   "metadata": {},
   "outputs": [],
   "source": [
    "def land():\n",
    "    lift.target_rot_position = 90\n",
    "    \n",
    "def rise():\n",
    "    lift.target_rot_position = -30\n",
    "\n",
    "def compliant():\n",
    "    motor_1.compliant = True\n",
    "    motor_2.compliant = True\n",
    "\n",
    "def genenerate_random_pos():\n",
    "    m1 = np.random.uniform(low=range_motor_1[0], high=range_motor_1[1], size=1)\n",
    "    m2 = np.random.uniform(low=range_motor_2[0], high=range_motor_2[1], size=1)\n",
    "    \n",
    "    return [m1[0], m2[0]]\n",
    "\n",
    "def get_pos():\n",
    "    return [motor_1.rot_position, motor_2.rot_position]\n",
    "\n",
    "def set_pos(pos):\n",
    "    motor_1.target_rot_position = pos[0]\n",
    "    motor_2.target_rot_position = pos[1]"
   ]
  },
  {
   "cell_type": "code",
   "execution_count": 23,
   "metadata": {},
   "outputs": [
    {
     "name": "stderr",
     "output_type": "stream",
     "text": [
      "Exception in thread Thread-4:\n",
      "Traceback (most recent call last):\n",
      "  File \"/usr/local/opt/python@3.8/Frameworks/Python.framework/Versions/3.8/lib/python3.8/threading.py\", line 932, in _bootstrap_inner\n",
      "    self.run()\n",
      "  File \"/usr/local/opt/python@3.8/Frameworks/Python.framework/Versions/3.8/lib/python3.8/threading.py\", line 870, in run\n",
      "    self._target(*self._args, **self._kwargs)\n",
      "  File \"/Users/matthieulapeyre/.virtualenvs/reachy/lib/python3.8/site-packages/pyluos/io/serial_io.py\", line 89, in _poll\n",
      "    to_read = self._serial.in_waiting\n",
      "  File \"/Users/matthieulapeyre/.virtualenvs/reachy/lib/python3.8/site-packages/serial/serialposix.py\", line 467, in in_waiting\n",
      "    s = fcntl.ioctl(self.fd, TIOCINQ, TIOCM_zero_str)\n",
      "OSError: [Errno 6] Device not configured\n"
     ]
    }
   ],
   "source": [
    "offset90 = np.array([-121.848, -103.079])\n",
    "\n",
    "offset = offset90 - 180"
   ]
  },
  {
   "cell_type": "code",
   "execution_count": 10,
   "metadata": {},
   "outputs": [
    {
     "data": {
      "text/plain": [
       "[-111.29, 35.924]"
      ]
     },
     "execution_count": 10,
     "metadata": {},
     "output_type": "execute_result"
    }
   ],
   "source": [
    "compliant()\n",
    "get_pos()"
   ]
  },
  {
   "cell_type": "code",
   "execution_count": 27,
   "metadata": {},
   "outputs": [],
   "source": [
    "set_pos([0,120])"
   ]
  },
  {
   "cell_type": "code",
   "execution_count": 28,
   "metadata": {},
   "outputs": [],
   "source": [
    "range_motor_1 = [-90, 20]\n",
    "range_motor_2 = [-10, 120]"
   ]
  },
  {
   "cell_type": "code",
   "execution_count": 36,
   "metadata": {},
   "outputs": [],
   "source": [
    "set_pos(genenerate_random_pos())"
   ]
  },
  {
   "cell_type": "code",
   "execution_count": 45,
   "metadata": {},
   "outputs": [],
   "source": [
    "land()"
   ]
  },
  {
   "cell_type": "code",
   "execution_count": 48,
   "metadata": {},
   "outputs": [],
   "source": [
    "for _ in range(5):\n",
    "    land()\n",
    "    time.sleep(0.5)\n",
    "    rise()\n",
    "    time.sleep(0.5)"
   ]
  },
  {
   "cell_type": "code",
   "execution_count": 47,
   "metadata": {},
   "outputs": [],
   "source": [
    "p = []\n",
    "for _ in range(1):\n",
    "    set_pos(genenerate_random_pos())\n",
    "    time.sleep(0.1)\n",
    "    land()\n",
    "    for _ in range(20):\n",
    "        set_pos(genenerate_random_pos())\n",
    "        p.append(get_pos()[0])\n",
    "        time.sleep(0.1)\n",
    "    rise()\n",
    "    time.sleep(0.1)\n",
    "rise()"
   ]
  },
  {
   "cell_type": "code",
   "execution_count": 15,
   "metadata": {},
   "outputs": [],
   "source": [
    "rise()"
   ]
  },
  {
   "cell_type": "code",
   "execution_count": 22,
   "metadata": {},
   "outputs": [],
   "source": [
    "compliant()"
   ]
  },
  {
   "cell_type": "code",
   "execution_count": 40,
   "metadata": {},
   "outputs": [],
   "source": [
    "from matplotlib import pyplot as plt"
   ]
  },
  {
   "cell_type": "code",
   "execution_count": 41,
   "metadata": {},
   "outputs": [
    {
     "data": {
      "text/plain": [
       "[<matplotlib.lines.Line2D at 0x111131880>]"
      ]
     },
     "execution_count": 41,
     "metadata": {},
     "output_type": "execute_result"
    },
    {
     "data": {
      "image/png": "[encoded data removed]",
      "text/plain": [
       "<Figure size 432x288 with 1 Axes>"
      ]
     },
     "metadata": {
      "needs_background": "light"
     },
     "output_type": "display_data"
    }
   ],
   "source": [
    "plt.plot(p)"
   ]
  },
  {
   "cell_type": "code",
   "execution_count": 54,
   "metadata": {},
   "outputs": [
    {
     "data": {
      "text/plain": [
       "-95.455"
      ]
     },
     "execution_count": 54,
     "metadata": {},
     "output_type": "execute_result"
    },
    {
     "name": "stderr",
     "output_type": "stream",
     "text": [
      "Exception in thread Thread-4:\n",
      "Traceback (most recent call last):\n",
      "  File \"/usr/local/opt/python@3.8/Frameworks/Python.framework/Versions/3.8/lib/python3.8/threading.py\", line 932, in _bootstrap_inner\n",
      "    self.run()\n",
      "  File \"/usr/local/opt/python@3.8/Frameworks/Python.framework/Versions/3.8/lib/python3.8/threading.py\", line 870, in run\n",
      "    self._target(*self._args, **self._kwargs)\n",
      "  File \"/Users/matthieulapeyre/.virtualenvs/reachy/lib/python3.8/site-packages/pyluos/io/serial_io.py\", line 89, in _poll\n",
      "    to_read = self._serial.in_waiting\n",
      "  File \"/Users/matthieulapeyre/.virtualenvs/reachy/lib/python3.8/site-packages/serial/serialposix.py\", line 467, in in_waiting\n",
      "    s = fcntl.ioctl(self.fd, TIOCINQ, TIOCM_zero_str)\n",
      "OSError: [Errno 6] Device not configured\n"
     ]
    }
   ],
   "source": [
    "np.min(p)"
   ]
  },
  {
   "cell_type": "code",
   "execution_count": null,
   "metadata": {},
   "outputs": [],
   "source": []
  }
 ],
 "metadata": {
  "kernelspec": {
   "display_name": "Python 3",
   "language": "python",
   "name": "python3"
  },
  "language_info": {
   "codemirror_mode": {
    "name": "ipython",
    "version": 3
   },
   "file_extension": ".py",
   "mimetype": "text/x-python",
   "name": "python",
   "nbconvert_exporter": "python",
   "pygments_lexer": "ipython3",
   "version": "3.8.6"
  }
 },
 "nbformat": 4,
 "nbformat_minor": 4
}
