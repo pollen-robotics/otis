{
 "cells": [
  {
   "cell_type": "code",
   "execution_count": 1,
   "metadata": {},
   "outputs": [],
   "source": [
    "from matplotlib import pyplot as plt\n",
    "%matplotlib inline\n",
    "import matplotlib.patches as patches"
   ]
  },
  {
   "cell_type": "code",
   "execution_count": 2,
   "metadata": {},
   "outputs": [],
   "source": [
    "from __future__ import print_function\n",
    "from ipywidgets import interact, interactive, fixed, interact_manual\n",
    "import ipywidgets as widgets"
   ]
  },
  {
   "cell_type": "code",
   "execution_count": 3,
   "metadata": {},
   "outputs": [],
   "source": [
    "from kinematics import FiveBarsMechanism\n",
    "import numpy as np"
   ]
  },
  {
   "cell_type": "code",
   "execution_count": 4,
   "metadata": {},
   "outputs": [],
   "source": [
    "import analysis"
   ]
  },
  {
   "cell_type": "code",
   "execution_count": 5,
   "metadata": {},
   "outputs": [],
   "source": [
    "angle_A_limits = [0, 200]\n",
    "angle_B_limits = [-30, 180]\n",
    "init_sampling = 10\n",
    "area_sampling = 100"
   ]
  },
  {
   "cell_type": "code",
   "execution_count": 6,
   "metadata": {},
   "outputs": [],
   "source": [
    "\n",
    "def show_space(R_A=30, R_B=30, L_A=50, L_B=50, d=15, theta_G=90):\n",
    "    Ax=40\n",
    "    Ay=45\n",
    "    Bx=90\n",
    "    By=35\n",
    "    params = [Ax, Ay, Bx, By, R_A, R_B, L_A, L_B, d, theta_G]\n",
    "    mechanism = FiveBarsMechanism(params)\n",
    "    r = analysis.estimate_reachable_area(mechanism, angle_A_limits, angle_B_limits, init_sampling, area_sampling)\n",
    "    f, axes = analysis.plot_reachable_area(r)\n",
    "    print(r['biggest_rectangle']['x_length'], r['biggest_rectangle']['y_length'])"
   ]
  },
  {
   "cell_type": "code",
   "execution_count": 7,
   "metadata": {},
   "outputs": [
    {
     "data": {
      "application/vnd.jupyter.widget-view+json": {
       "model_id": "1ea93413d6d848d09ebfd0dbddd318c8",
       "version_major": 2,
       "version_minor": 0
      },
      "text/plain": [
       "interactive(children=(IntSlider(value=30, description='R_A', max=60, min=20), IntSlider(value=30, description=…"
      ]
     },
     "metadata": {},
     "output_type": "display_data"
    }
   ],
   "source": [
    "interact(show_space, R_A=(20,60), R_B=(20,60), L_A=(40,120), L_B=(40,120), d=(0, 50), theta_G=(30,120));\n"
   ]
  },
  {
   "cell_type": "code",
   "execution_count": 72,
   "metadata": {},
   "outputs": [],
   "source": [
    "#params = [ 0, 17, 50, -7, 20, 20, 56, 62,  0] # precision\n",
    "#params = [0,0,40,0,40,40,50,50,0] # good space\n",
    "params = [ 40, 45, 90, 35, 40, 40, 60, 50,  20, 90]\n",
    "params = [ 40, 45, 90, 35, 30, 30, 60, 50,  15, 80]"
   ]
  },
  {
   "cell_type": "code",
   "execution_count": 73,
   "metadata": {},
   "outputs": [
    {
     "data": {
      "text/plain": [
       "[40, 45, 90, 35, 30, 30, 60, 50, 15, 80]"
      ]
     },
     "execution_count": 73,
     "metadata": {},
     "output_type": "execute_result"
    }
   ],
   "source": [
    "params"
   ]
  },
  {
   "cell_type": "code",
   "execution_count": 74,
   "metadata": {},
   "outputs": [
    {
     "data": {
      "image/png": "[encoded data removed]",
      "text/plain": [
       "<Figure size 432x288 with 1 Axes>"
      ]
     },
     "metadata": {
      "needs_background": "light"
     },
     "output_type": "display_data"
    },
    {
     "name": "stdout",
     "output_type": "stream",
     "text": [
      "40.67605038775608 39.16922156242292\n"
     ]
    }
   ],
   "source": [
    "finger = FiveBarsMechanism(params)\n",
    "\n",
    "angle_A_limits = [0, 180]\n",
    "angle_B_limits = [0, 180]\n",
    "angle_A_limits = [0, 200]\n",
    "angle_B_limits = [-30, 180]\n",
    "init_sampling = 10\n",
    "area_sampling = 100\n",
    "\n",
    "r = analysis.estimate_reachable_area(finger, angle_A_limits, angle_B_limits, init_sampling, area_sampling)\n",
    "analysis.plot_reachable_area(r)\n",
    "print(r['biggest_rectangle']['x_length'], r['biggest_rectangle']['y_length'])"
   ]
  },
  {
   "cell_type": "code",
   "execution_count": 75,
   "metadata": {},
   "outputs": [],
   "source": [
    "#sample biggest_rectangle\n",
    "area_sampling = 50\n",
    "\n",
    "x_sampling = np.linspace(r['biggest_rectangle']['x_min'], r['biggest_rectangle']['x_max'], area_sampling)\n",
    "y_sampling = np.linspace(r['biggest_rectangle']['y_min'], r['biggest_rectangle']['y_max'], area_sampling)\n",
    "\n",
    "#x_sampling = r['x']\n",
    "#y_sampling = r['y']\n",
    "delta = 1\n",
    "pos_error = analysis.estimate_precision(finger, x_sampling, y_sampling, delta, angle_A_limits, angle_B_limits)"
   ]
  },
  {
   "cell_type": "code",
   "execution_count": 79,
   "metadata": {},
   "outputs": [
    {
     "data": {
      "image/png": "[encoded data removed]",
      "text/plain": [
       "<Figure size 432x288 with 2 Axes>"
      ]
     },
     "metadata": {
      "needs_background": "light"
     },
     "output_type": "display_data"
    },
    {
     "data": {
      "text/plain": [
       "0.9160536726550623"
      ]
     },
     "execution_count": 79,
     "metadata": {},
     "output_type": "execute_result"
    }
   ],
   "source": [
    "plt.imshow(pos_error.T, aspect='auto', \n",
    "           origin='lower', \n",
    "           extent=[min(x_sampling),max(x_sampling),min(y_sampling),max(y_sampling)], \n",
    "           interpolation='nearest')\n",
    "plt.colorbar()\n",
    "plt.show()\n",
    "pos_error.mean()"
   ]
  },
  {
   "cell_type": "code",
   "execution_count": 33,
   "metadata": {},
   "outputs": [
    {
     "data": {
      "text/plain": [
       "0.8264780740776368"
      ]
     },
     "execution_count": 33,
     "metadata": {},
     "output_type": "execute_result"
    }
   ],
   "source": []
  },
  {
   "cell_type": "code",
   "execution_count": null,
   "metadata": {},
   "outputs": [],
   "source": []
  }
 ],
 "metadata": {
  "kernelspec": {
   "display_name": "Python 3",
   "language": "python",
   "name": "python3"
  },
  "language_info": {
   "codemirror_mode": {
    "name": "ipython",
    "version": 3
   },
   "file_extension": ".py",
   "mimetype": "text/x-python",
   "name": "python",
   "nbconvert_exporter": "python",
   "pygments_lexer": "ipython3",
   "version": "3.8.6"
  }
 },
 "nbformat": 4,
 "nbformat_minor": 4
}
