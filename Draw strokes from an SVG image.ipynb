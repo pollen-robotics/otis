{
 "cells": [
  {
   "cell_type": "code",
   "execution_count": 1,
   "id": "consecutive-africa",
   "metadata": {},
   "outputs": [],
   "source": [
    "import sys\n",
    "from otis import otis\n",
    "from otis import kinematics\n",
    "\n",
    "from reachy_sdk import ReachySDK\n",
    "\n",
    "\n",
    "reachy = ReachySDK(host='localhost')"
   ]
  },
  {
   "cell_type": "code",
   "execution_count": 2,
   "id": "adapted-mission",
   "metadata": {},
   "outputs": [
    {
     "name": "stdout",
     "output_type": "stream",
     "text": [
      "Using matplotlib backend: Qt5Agg\n"
     ]
    }
   ],
   "source": [
    "%matplotlib\n",
    "\n",
    "from matplotlib import pyplot as plt\n",
    "\n",
    "import numpy as np\n",
    "\n",
    "# This can be installed via pip\n",
    "from svgpathtools import svg2paths, wsvg"
   ]
  },
  {
   "cell_type": "code",
   "execution_count": 3,
   "id": "distinct-zambia",
   "metadata": {},
   "outputs": [],
   "source": [
    "def svg_to_strokes(filename):\n",
    "    paths, attrs = svg2paths(filename, convert_rectangles_to_paths=False)\n",
    "\n",
    "    def pixel2mm(pix, DPI=300):\n",
    "        return pix * 25.4 / DPI\n",
    "\n",
    "    strokes = []\n",
    "\n",
    "    for p in paths:\n",
    "        pts = np.asarray([[np.real(p.point(x)), np.imag(p.point(x))] \n",
    "                          for x in np.linspace(0, 1, 30 * len(p))])\n",
    "        X = pixel2mm(pts[:, 0])\n",
    "        Y = pixel2mm(pts[:, 1])\n",
    "\n",
    "        strokes.append(np.array((X, Y)).T)\n",
    "        \n",
    "    return strokes"
   ]
  },
  {
   "cell_type": "code",
   "execution_count": 4,
   "id": "heated-elephant",
   "metadata": {},
   "outputs": [],
   "source": [
    "svg_example_path = 'flower.svg'\n",
    "\n",
    "strokes = svg_to_strokes(svg_example_path)\n",
    "\n",
    "# plt.figure()\n",
    "for s in strokes:\n",
    "    X, Y = s.T\n",
    "#     plt.plot(X, Y)\n",
    "# plt.gca().set_aspect('equal', adjustable='box')"
   ]
  },
  {
   "cell_type": "code",
   "execution_count": 5,
   "id": "ecef6612",
   "metadata": {},
   "outputs": [],
   "source": [
    "otis_hand = [reachy.r_arm.r_otis_motor_a, reachy.r_arm.r_otis_motor_b, reachy.r_arm.r_otis_motor_lift]"
   ]
  },
  {
   "cell_type": "code",
   "execution_count": 6,
   "id": "f1cca6bb",
   "metadata": {},
   "outputs": [],
   "source": [
    "for motor in otis_hand:\n",
    "    motor.compliant = False"
   ]
  },
  {
   "cell_type": "code",
   "execution_count": 7,
   "id": "2ebe92cc",
   "metadata": {},
   "outputs": [],
   "source": [
    "from reachy_sdk.trajectory import goto\n",
    "from reachy_sdk.trajectory.interpolation import minimum_jerk"
   ]
  },
  {
   "cell_type": "code",
   "execution_count": 8,
   "id": "6c220ab1",
   "metadata": {},
   "outputs": [],
   "source": [
    "otis.lift(reachy)"
   ]
  },
  {
   "cell_type": "code",
   "execution_count": 9,
   "id": "1f189349",
   "metadata": {},
   "outputs": [],
   "source": [
    "otis.drop(reachy)"
   ]
  },
  {
   "cell_type": "code",
   "execution_count": 10,
   "id": "8f204795",
   "metadata": {},
   "outputs": [],
   "source": [
    "five_bars_mechanism_params = {\n",
    "    'Ax': 40,\n",
    "    'Ay': 45,\n",
    "    'Bx': 90,\n",
    "    'By': 35,\n",
    "    'R_A': 30,\n",
    "    'R_B': 30,\n",
    "    'L_A': 60,\n",
    "    'L_B': 50,\n",
    "    'd': 15,\n",
    "    'theta_G': 80,\n",
    "}"
   ]
  },
  {
   "cell_type": "code",
   "execution_count": 11,
   "id": "76232c22",
   "metadata": {},
   "outputs": [],
   "source": [
    "fbm = kinematics.FiveBarsMechanism(params=five_bars_mechanism_params)"
   ]
  },
  {
   "cell_type": "code",
   "execution_count": 12,
   "id": "heavy-knitting",
   "metadata": {},
   "outputs": [],
   "source": [
    "import time\n",
    "\n",
    "goal, real = [], []\n",
    "\n",
    "for s in strokes:\n",
    "    otis.lift(reachy)\n",
    "\n",
    "    x, y = s[0]\n",
    "    theta_a, theta_b = fbm.inverse(x, y)\n",
    "\n",
    "    goto(\n",
    "        goal_positions={\n",
    "            reachy.r_arm.r_otis_motor_a: theta_a, \n",
    "            reachy.r_arm.r_otis_motor_b: theta_b\n",
    "        }, \n",
    "        duration=0.5,\n",
    "    )\n",
    "\n",
    "    otis.drop(reachy)\n",
    "    \n",
    "    for x, y in s:\n",
    "        a, b, = fbm.inverse(x, y)\n",
    "        reachy.r_arm.r_otis_motor_a.goal_position = a\n",
    "        reachy.r_arm.r_otis_motor_b.goal_position = b\n",
    "        time.sleep(0.025)\n",
    "    \n",
    "        goal.append((a, b))\n",
    "        real.append((reachy.r_arm.r_otis_motor_a.present_position, reachy.r_arm.r_otis_motor_b.present_position))\n",
    "\n",
    "otis.lift(reachy)\n",
    "\n",
    "goal = np.array(goal)\n",
    "real = np.array(real)"
   ]
  },
  {
   "cell_type": "code",
   "execution_count": 15,
   "id": "chubby-ceramic",
   "metadata": {},
   "outputs": [],
   "source": [
    "# plt.figure()\n",
    "\n",
    "# GX, GY = fbm.forward(goal[:, 0], goal[:, 1])\n",
    "# RX, RY = fbm.forward(real[:, 0], real[:, 1])\n",
    "\n",
    "# plt.plot(GX, GY, '--')\n",
    "# plt.plot(RX, RY)\n",
    "\n",
    "# plt.gca().set_aspect('equal', adjustable='box')"
   ]
  },
  {
   "cell_type": "code",
   "execution_count": null,
   "id": "helpful-anthony",
   "metadata": {},
   "outputs": [],
   "source": []
  }
 ],
 "metadata": {
  "kernelspec": {
   "display_name": "Python 3 (ipykernel)",
   "language": "python",
   "name": "python3"
  },
  "language_info": {
   "codemirror_mode": {
    "name": "ipython",
    "version": 3
   },
   "file_extension": ".py",
   "mimetype": "text/x-python",
   "name": "python",
   "nbconvert_exporter": "python",
   "pygments_lexer": "ipython3",
   "version": "3.8.10"
  }
 },
 "nbformat": 4,
 "nbformat_minor": 5
}
