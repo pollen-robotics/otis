{
 "cells": [
  {
   "cell_type": "code",
   "execution_count": 1,
   "metadata": {},
   "outputs": [],
   "source": [
    "from pyluos import Device"
   ]
  },
  {
   "cell_type": "code",
   "execution_count": 2,
   "metadata": {},
   "outputs": [],
   "source": [
    "import time"
   ]
  },
  {
   "cell_type": "code",
   "execution_count": 3,
   "metadata": {},
   "outputs": [],
   "source": [
    "import numpy as np"
   ]
  },
  {
   "cell_type": "code",
   "execution_count": 4,
   "metadata": {},
   "outputs": [],
   "source": [
    "from svgpathtools import svg2paths, wsvg"
   ]
  },
  {
   "cell_type": "code",
   "execution_count": 5,
   "metadata": {},
   "outputs": [],
   "source": [
    "from matplotlib import pyplot as plt\n",
    "%matplotlib inline"
   ]
  },
  {
   "cell_type": "code",
   "execution_count": 6,
   "metadata": {},
   "outputs": [],
   "source": [
    "robot = Device('/dev/cu.usbserial-D307RR2E')"
   ]
  },
  {
   "cell_type": "code",
   "execution_count": 7,
   "metadata": {},
   "outputs": [
    {
     "data": {
      "text/plain": [
       "-------------------------------------------------\n",
       "Type                Alias               ID   \n",
       "-------------------------------------------------\n",
       "Gate                gate                1    \n",
       "DynamixelMotor      dxl_2               2    \n",
       "DynamixelMotor      dxl_12              3    \n",
       "DynamixelMotor      dxl_30              4    "
      ]
     },
     "execution_count": 7,
     "metadata": {},
     "output_type": "execute_result"
    }
   ],
   "source": [
    "robot.modules"
   ]
  },
  {
   "cell_type": "code",
   "execution_count": 8,
   "metadata": {},
   "outputs": [],
   "source": [
    "motor_1 = robot.dxl_12\n",
    "motor_2 = robot.dxl_30"
   ]
  },
  {
   "cell_type": "code",
   "execution_count": 9,
   "metadata": {},
   "outputs": [],
   "source": [
    "motor_1.positionPid = [100, 0, 0]"
   ]
  },
  {
   "cell_type": "code",
   "execution_count": 10,
   "metadata": {},
   "outputs": [],
   "source": [
    "def land():\n",
    "    robot.dxl_2.target_rot_position = 90\n",
    "    \n",
    "def rise():\n",
    "    robot.dxl_2.target_rot_position = -10"
   ]
  },
  {
   "cell_type": "code",
   "execution_count": 11,
   "metadata": {},
   "outputs": [],
   "source": [
    "for _ in range(3):\n",
    "    rise()\n",
    "    time.sleep(0.5)\n",
    "    land()\n",
    "    time.sleep(0.5)"
   ]
  },
  {
   "cell_type": "code",
   "execution_count": null,
   "metadata": {},
   "outputs": [],
   "source": []
  },
  {
   "cell_type": "code",
   "execution_count": 12,
   "metadata": {},
   "outputs": [],
   "source": [
    "def get_pos():\n",
    "    return [motor_1.rot_position, motor_2.rot_position]"
   ]
  },
  {
   "cell_type": "code",
   "execution_count": 13,
   "metadata": {},
   "outputs": [],
   "source": [
    "def compliant():\n",
    "    motor_1.compliant = True\n",
    "    motor_2.compliant = True"
   ]
  },
  {
   "cell_type": "code",
   "execution_count": 14,
   "metadata": {},
   "outputs": [],
   "source": [
    "from __future__ import division\n",
    "\n",
    "from angles import normalize\n",
    "from operator import itemgetter\n",
    "from math import sqrt, acos, cos, sin, asin\n",
    "from numpy import deg2rad, rad2deg, isclose, array\n",
    "\n",
    "\"\"\" See http://forum.pollen-robotics.com/t/low-cost-multiped-robot/59/11 \"\"\"\n",
    "\n",
    "# In mm\n",
    "d = 27.5\n",
    "r = 30\n",
    "L = 50\n",
    "\n",
    "\n",
    "class LegKinematic(object):\n",
    "    def forward(self, p1, p2):\n",
    "        theta1, theta2 = deg2rad(p1), deg2rad(p2)\n",
    "\n",
    "        x1 = -r * sin(theta1) + d\n",
    "        y1 = r * cos(theta1)\n",
    "\n",
    "        x2 = -r * sin(theta2) - d\n",
    "        y2 = r * cos(theta2)\n",
    "\n",
    "        sol = (same_radius_circle_intersection((x1, y1), (x2, y2)))\n",
    "        return max(sol, key=itemgetter(1))\n",
    "\n",
    "    def inverse(self, x, y):\n",
    "        C1 = (d, 0)\n",
    "        C2 = (-d, 0)\n",
    "\n",
    "        # theta1\n",
    "        sol_1 = compute_cercle_intersect(C1[0], C1[1], x, y, r, L)\n",
    "        sol_2 = compute_cercle_intersect(C2[0], C2[1], x, y, r, L)\n",
    "\n",
    "        sol_1 = max(sol_1, key=itemgetter(0))\n",
    "        sol_2 = min(sol_2, key=itemgetter(0))\n",
    "\n",
    "        ratio = (sol_1[0] - C1[0]) / r\n",
    "        ratio = min(max(ratio, -1.0), 1.0)\n",
    "        theta1 = rad2deg(asin(ratio))\n",
    "        theta1 = theta1 if sol_1[1] > 0 else 180 - theta1\n",
    "        theta1 = normalize(theta1, -180, 180)\n",
    "\n",
    "        ratio = (sol_2[0] - C2[0]) / r\n",
    "        ratio = min(max(ratio, -1.0), 1.0)\n",
    "        theta2 = rad2deg(asin(ratio))\n",
    "        theta2 = theta2 if sol_2[1] > 0 else 180 - theta2\n",
    "        theta2 = normalize(theta2, -180, 180)\n",
    "\n",
    "        return -theta1, -theta2\n",
    "\n",
    "\n",
    "def valid_motor_position(m1, m2):\n",
    "    test = (m1 < m2 and -130 < m1 < 45 and -45 < m2 < 130)\n",
    "    return test\n",
    "\n",
    "\n",
    "def compute_cercle_intersect(x0, y0, x1, y1, r0, r1):\n",
    "    d = sqrt((x0 - x1)**2 + (y0 - y1)**2)\n",
    "\n",
    "    if d > (r0 + r1):\n",
    "        return []\n",
    "\n",
    "    a = (r0**2 - r1**2 + d**2) / (2 * d)\n",
    "    h = sqrt(r0**2 - a**2)\n",
    "\n",
    "    x2 = x0 + a * (x1 - x0) / d\n",
    "    y2 = y0 + a * (y1 - y0) / d\n",
    "\n",
    "    xr = h * (y1 - y0) / d\n",
    "    yr = h * (x1 - x0) / d\n",
    "\n",
    "    sol = (x2 + xr, y2 + yr), (x2 - xr, y2 - yr), (x2 + xr, y2 - yr), (x2 - xr, y2 + yr)\n",
    "    good_sol = [s for s in sol if test_r(x0, y0, x1, y1, r0, r1, s)]\n",
    "\n",
    "    # phi = [rad2deg(compute_phi(x0, y0, x1, y1, r0, r1, good_sol[i]))\n",
    "    #        for i in range(len(good_sol))]\n",
    "\n",
    "    return good_sol\n",
    "\n",
    "\n",
    "def test_r(x0, y0, x1, y1, r0, r1, s):\n",
    "    test_r0 = sqrt((x0 - s[0])**2 + (y0 - s[1])**2)\n",
    "    test_r1 = sqrt((x1 - s[0])**2 + (y1 - s[1])**2)\n",
    "\n",
    "    return isclose(test_r0, r0) and isclose(test_r1, r1)\n",
    "\n",
    "\n",
    "def compute_phi(x0, y0, x1, y1, r0, r1, s):\n",
    "    u = array([x0 - s[0], y0 - s[1]])\n",
    "    v = array([x1 - s[0], y1 - s[1]])\n",
    "    c_phi = u.dot(v) / (r0 * r1)\n",
    "\n",
    "    return acos(c_phi)\n",
    "\n",
    "\n",
    "def same_radius_circle_intersection(c1, c2):\n",
    "    (x1, y1), (x2, y2) = c1, c2\n",
    "    R = sqrt((x2 - x1)**2 + (y2 - y1)**2)\n",
    "\n",
    "    xl = 0.5 * (x1 + x2)\n",
    "    xr = 0.5 * sqrt(2 * ((L**2 + L**2) / (R**2)) - 1) * (y2 - y1)\n",
    "    yl = 0.5 * (y1 + y2)\n",
    "    yr = 0.5 * sqrt(2 * ((L**2 + L**2) / (R**2)) - 1) * (x1 - x2)\n",
    "\n",
    "    return (xl + xr, yl + yr), (xl - xr, yl - yr)"
   ]
  },
  {
   "cell_type": "code",
   "execution_count": 15,
   "metadata": {},
   "outputs": [],
   "source": [
    "def trace_path(path, n_eval=100):\n",
    "    pos = np.asarray([[np.real(path.point(x)), np.imag(path.point(x))] for x in np.linspace(1,0,n_eval)])\n",
    "    \n",
    "    return pos[:,0], -1*pos[:,1]"
   ]
  },
  {
   "cell_type": "code",
   "execution_count": 16,
   "metadata": {},
   "outputs": [],
   "source": [
    "compliant()"
   ]
  },
  {
   "cell_type": "code",
   "execution_count": 89,
   "metadata": {},
   "outputs": [],
   "source": [
    "paths, attributes = svg2paths('/Users/matthieulapeyre/Downloads/bar.svg')\n",
    "DPI = 144"
   ]
  },
  {
   "cell_type": "code",
   "execution_count": 90,
   "metadata": {},
   "outputs": [],
   "source": [
    "def pixel2mm(pix,DPI=144):\n",
    "    return pix * 25.4 / DPI"
   ]
  },
  {
   "cell_type": "code",
   "execution_count": 91,
   "metadata": {},
   "outputs": [
    {
     "data": {
      "image/png": "[encoded data removed]",
      "text/plain": [
       "<Figure size 432x288 with 1 Axes>"
      ]
     },
     "metadata": {
      "needs_background": "light"
     },
     "output_type": "display_data"
    }
   ],
   "source": [
    "plt.figure()\n",
    "\n",
    "for p in paths:\n",
    "    pts = np.asarray([[np.real(p.point(x)), np.imag(p.point(x))] for x in np.linspace(1,0,60)])\n",
    "    plt.plot(pixel2mm(pts[:,0]), -1*pixel2mm(pts[:,1]))\n",
    "\n",
    "plt.show()"
   ]
  },
  {
   "cell_type": "code",
   "execution_count": 84,
   "metadata": {},
   "outputs": [],
   "source": [
    "hand = LegKinematic()"
   ]
  },
  {
   "cell_type": "code",
   "execution_count": 85,
   "metadata": {},
   "outputs": [],
   "source": [
    "y_max = 65\n",
    "y_min = 35\n",
    "x_min = -25\n",
    "x_max = 30"
   ]
  },
  {
   "cell_type": "code",
   "execution_count": 86,
   "metadata": {},
   "outputs": [],
   "source": [
    "x,y = trace_path(paths[0])\n",
    "y_offset = y_min - min(pixel2mm(y))"
   ]
  },
  {
   "cell_type": "code",
   "execution_count": 87,
   "metadata": {},
   "outputs": [
    {
     "data": {
      "text/plain": [
       "116.63009722351856"
      ]
     },
     "execution_count": 87,
     "metadata": {},
     "output_type": "execute_result"
    }
   ],
   "source": [
    "paths[0].length()/4"
   ]
  },
  {
   "cell_type": "code",
   "execution_count": 88,
   "metadata": {},
   "outputs": [],
   "source": [
    "rise()\n",
    "for p in paths:   \n",
    "    x,y = trace_path(p, int(p.length()/4))\n",
    "\n",
    "    x = pixel2mm(x)\n",
    "    y = pixel2mm(y)\n",
    "\n",
    "    scale = 50\n",
    "    first = True\n",
    "\n",
    "    for i in range(len(x)):\n",
    "        try:\n",
    "            p1,p2 = hand.inverse(x[i], y[i]+ y_offset)\n",
    "\n",
    "            motor_1.target_rot_position = p1\n",
    "            motor_2.target_rot_position = p2\n",
    "\n",
    "            if first:\n",
    "                time.sleep(0.5)\n",
    "                land()\n",
    "                first = False\n",
    "                time.sleep(0.5)\n",
    "\n",
    "            time.sleep(0.03)\n",
    "        except:\n",
    "            pass\n",
    "    \n",
    "    rise()\n",
    "    time.sleep(0.5)\n",
    "\n",
    "land()"
   ]
  },
  {
   "cell_type": "code",
   "execution_count": 47,
   "metadata": {},
   "outputs": [],
   "source": []
  },
  {
   "cell_type": "code",
   "execution_count": 107,
   "metadata": {},
   "outputs": [
    {
     "data": {
      "text/plain": [
       "[<matplotlib.lines.Line2D at 0x1183ae730>]"
      ]
     },
     "execution_count": 107,
     "metadata": {},
     "output_type": "execute_result"
    },
    {
     "data": {
      "image/png": "[encoded data removed]",
      "text/plain": [
       "<Figure size 432x288 with 1 Axes>"
      ]
     },
     "metadata": {
      "needs_background": "light"
     },
     "output_type": "display_data"
    }
   ],
   "source": [
    "\n",
    "plt.plot(np.asarray(goal)[:,0])\n",
    "plt.plot(np.asarray(present)[:,0])"
   ]
  },
  {
   "cell_type": "code",
   "execution_count": 108,
   "metadata": {},
   "outputs": [
    {
     "data": {
      "text/plain": [
       "[<matplotlib.lines.Line2D at 0x118404310>]"
      ]
     },
     "execution_count": 108,
     "metadata": {},
     "output_type": "execute_result"
    },
    {
     "data": {
      "image/png": "[encoded data removed]",
      "text/plain": [
       "<Figure size 432x288 with 1 Axes>"
      ]
     },
     "metadata": {
      "needs_background": "light"
     },
     "output_type": "display_data"
    }
   ],
   "source": [
    "plt.plot(np.asarray(goal)[:,1])\n",
    "plt.plot(np.asarray(present)[:,1])"
   ]
  },
  {
   "cell_type": "code",
   "execution_count": 112,
   "metadata": {},
   "outputs": [],
   "source": [
    "\n",
    "fg = []\n",
    "for g in goal:\n",
    "    fg.append(hand.forward(g[0], g[1]))\n",
    "fg = np.array(fg)\n",
    "\n",
    "fp = []\n",
    "for p in present:\n",
    "    fp.append(hand.forward(p[0], p[1]))\n",
    "fp = np.array(fp)\n"
   ]
  },
  {
   "cell_type": "code",
   "execution_count": 113,
   "metadata": {},
   "outputs": [
    {
     "data": {
      "text/plain": [
       "[<matplotlib.lines.Line2D at 0x1184c7490>]"
      ]
     },
     "execution_count": 113,
     "metadata": {},
     "output_type": "execute_result"
    },
    {
     "data": {
      "image/png": "[encoded data removed]",
      "text/plain": [
       "<Figure size 432x288 with 1 Axes>"
      ]
     },
     "metadata": {
      "needs_background": "light"
     },
     "output_type": "display_data"
    }
   ],
   "source": [
    "plt.plot(fg[:,0], fg[:,1], '*')\n",
    "plt.plot(fp[:,0], fp[:,1])"
   ]
  },
  {
   "cell_type": "code",
   "execution_count": 71,
   "metadata": {},
   "outputs": [
    {
     "data": {
      "text/plain": [
       "[<matplotlib.lines.Line2D at 0x117b0aee0>]"
      ]
     },
     "execution_count": 71,
     "metadata": {},
     "output_type": "execute_result"
    },
    {
     "data": {
      "image/png": "[encoded data removed]",
      "text/plain": [
       "<Figure size 432x288 with 1 Axes>"
      ]
     },
     "metadata": {
      "needs_background": "light"
     },
     "output_type": "display_data"
    }
   ],
   "source": []
  },
  {
   "cell_type": "code",
   "execution_count": 172,
   "metadata": {},
   "outputs": [],
   "source": [
    "land()"
   ]
  },
  {
   "cell_type": "code",
   "execution_count": 173,
   "metadata": {},
   "outputs": [
    {
     "name": "stderr",
     "output_type": "stream",
     "text": [
      "Exception in thread Thread-4:\n",
      "Traceback (most recent call last):\n",
      "  File \"/usr/local/opt/python@3.8/Frameworks/Python.framework/Versions/3.8/lib/python3.8/threading.py\", line 932, in _bootstrap_inner\n",
      "    self.run()\n",
      "  File \"/usr/local/opt/python@3.8/Frameworks/Python.framework/Versions/3.8/lib/python3.8/threading.py\", line 870, in run\n",
      "    self._target(*self._args, **self._kwargs)\n",
      "  File \"/Users/matthieulapeyre/.virtualenvs/reachy/lib/python3.8/site-packages/pyluos/io/serial_io.py\", line 89, in _poll\n",
      "    to_read = self._serial.in_waiting\n",
      "  File \"/Users/matthieulapeyre/.virtualenvs/reachy/lib/python3.8/site-packages/serial/serialposix.py\", line 467, in in_waiting\n",
      "    s = fcntl.ioctl(self.fd, TIOCINQ, TIOCM_zero_str)\n",
      "OSError: [Errno 6] Device not configured\n"
     ]
    }
   ],
   "source": [
    "rise()"
   ]
  },
  {
   "cell_type": "code",
   "execution_count": 24,
   "metadata": {},
   "outputs": [],
   "source": [
    "compliant()"
   ]
  },
  {
   "cell_type": "code",
   "execution_count": 34,
   "metadata": {},
   "outputs": [
    {
     "ename": "KeyboardInterrupt",
     "evalue": "",
     "output_type": "error",
     "traceback": [
      "\u001b[0;31m---------------------------------------------------------------------------\u001b[0m",
      "\u001b[0;31mKeyboardInterrupt\u001b[0m                         Traceback (most recent call last)",
      "\u001b[0;32m<ipython-input-34-dbc56e0004a4>\u001b[0m in \u001b[0;36m<module>\u001b[0;34m\u001b[0m\n\u001b[1;32m      2\u001b[0m \u001b[0;32mwhile\u001b[0m \u001b[0;32mTrue\u001b[0m\u001b[0;34m:\u001b[0m\u001b[0;34m\u001b[0m\u001b[0;34m\u001b[0m\u001b[0m\n\u001b[1;32m      3\u001b[0m     \u001b[0mpos\u001b[0m\u001b[0;34m.\u001b[0m\u001b[0mappend\u001b[0m\u001b[0;34m(\u001b[0m\u001b[0mget_pos\u001b[0m\u001b[0;34m(\u001b[0m\u001b[0;34m)\u001b[0m\u001b[0;34m)\u001b[0m\u001b[0;34m\u001b[0m\u001b[0;34m\u001b[0m\u001b[0m\n\u001b[0;32m----> 4\u001b[0;31m     \u001b[0mtime\u001b[0m\u001b[0;34m.\u001b[0m\u001b[0msleep\u001b[0m\u001b[0;34m(\u001b[0m\u001b[0;36m0.2\u001b[0m\u001b[0;34m)\u001b[0m\u001b[0;34m\u001b[0m\u001b[0;34m\u001b[0m\u001b[0m\n\u001b[0m",
      "\u001b[0;31mKeyboardInterrupt\u001b[0m: "
     ]
    }
   ],
   "source": [
    "pos = []\n",
    "while True:\n",
    "    pos.append(get_pos())\n",
    "    time.sleep(0.2)"
   ]
  },
  {
   "cell_type": "code",
   "execution_count": 35,
   "metadata": {},
   "outputs": [],
   "source": [
    "land()\n",
    "for p in pos:\n",
    "    robot.dxl_12.target_rot_position = p[0]\n",
    "    robot.dxl_30.target_rot_position = p[1]\n",
    "    time.sleep(0.2)\n",
    "\n",
    "rise()"
   ]
  },
  {
   "cell_type": "code",
   "execution_count": 17,
   "metadata": {},
   "outputs": [],
   "source": [
    "rise()"
   ]
  },
  {
   "cell_type": "code",
   "execution_count": 38,
   "metadata": {},
   "outputs": [
    {
     "ename": "AttributeError",
     "evalue": "'float' object has no attribute 'dxl_12'",
     "output_type": "error",
     "traceback": [
      "\u001b[0;31m---------------------------------------------------------------------------\u001b[0m",
      "\u001b[0;31mAttributeError\u001b[0m                            Traceback (most recent call last)",
      "\u001b[0;32m<ipython-input-38-15dad05c6a13>\u001b[0m in \u001b[0;36m<module>\u001b[0;34m\u001b[0m\n\u001b[0;32m----> 1\u001b[0;31m \u001b[0mhand\u001b[0m\u001b[0;34m.\u001b[0m\u001b[0mforward\u001b[0m\u001b[0;34m(\u001b[0m\u001b[0md\u001b[0m\u001b[0;34m.\u001b[0m\u001b[0mdxl_12\u001b[0m\u001b[0;34m.\u001b[0m\u001b[0mrot_position\u001b[0m\u001b[0;34m,\u001b[0m \u001b[0md\u001b[0m\u001b[0;34m.\u001b[0m\u001b[0mdxl_30\u001b[0m\u001b[0;34m.\u001b[0m\u001b[0mrot_position\u001b[0m\u001b[0;34m)\u001b[0m\u001b[0;34m\u001b[0m\u001b[0;34m\u001b[0m\u001b[0m\n\u001b[0m",
      "\u001b[0;31mAttributeError\u001b[0m: 'float' object has no attribute 'dxl_12'"
     ]
    }
   ],
   "source": [
    "hand.forward(d.dxl_12.rot_position, d.dxl_30.rot_position)"
   ]
  },
  {
   "cell_type": "code",
   "execution_count": null,
   "metadata": {},
   "outputs": [],
   "source": []
  }
 ],
 "metadata": {
  "kernelspec": {
   "display_name": "Python 3",
   "language": "python",
   "name": "python3"
  },
  "language_info": {
   "codemirror_mode": {
    "name": "ipython",
    "version": 3
   },
   "file_extension": ".py",
   "mimetype": "text/x-python",
   "name": "python",
   "nbconvert_exporter": "python",
   "pygments_lexer": "ipython3",
   "version": "3.8.6"
  }
 },
 "nbformat": 4,
 "nbformat_minor": 4
}
